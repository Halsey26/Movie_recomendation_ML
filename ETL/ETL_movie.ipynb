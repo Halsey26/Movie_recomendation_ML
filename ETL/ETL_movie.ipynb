{
 "cells": [
  {
   "cell_type": "markdown",
   "metadata": {},
   "source": [
    "## ETL_ MOVIES\n",
    "TRANSFORMACIONES: \n",
    "- Algunos campos, como **belongs_to_collection**, **production_companies** y otros (ver diccionario de datos) están anidados, esto es o bien tienen un diccionario o una lista como valores en cada fila, ¡deberán desanidarlos para poder y unirlos al dataset de nuevo hacer alguna de las consultas de la API! O bien buscar la manera de acceder a esos datos sin desanidarlos.<P>\n",
    "\n",
    "- Los valores nulos de los campos **revenue**, **budget** deben ser rellenados por el número 0.<P>\n",
    "\n",
    "- Los valores nulos del campo **release date** deben eliminarse.<P>\n",
    " \n",
    "- De haber fechas, deberán tener el formato AAAA-mm-dd, además deberán crear la columna **release_year** donde extraerán el año de la fecha de estreno. <P>\n",
    "\n",
    "- Crear la columna con el retorno de inversión, llamada **return** con los campos **revenue** y **budget**, dividiendo estas dos últimas **revenue** / **budget**, cuando no hay datos disponibles para calcularlo, deberá tomar el valor 0. <P>\n",
    "\n",
    "- Eliminar las columnas que no serán utilizadas, **video**,**imdb_id**,**adult**,**original_title**,**poster_path** y **homepage**. <P>"
   ]
  },
  {
   "cell_type": "code",
   "execution_count": 91,
   "metadata": {},
   "outputs": [],
   "source": [
    "import numpy as np\n",
    "import pandas as pd\n",
    "from pandas import json_normalize\n",
    "import ast\n",
    "import sys\n",
    "import os\n",
    "\n",
    "# Agrega el directorio superior al path\n",
    "sys.path.append(os.path.abspath(\"..\"))\n",
    "\n",
    "from funciones.desanidar_concatena import desanidar_concat\n",
    "from funciones.reordena_col import reordena_colum\n"
   ]
  },
  {
   "cell_type": "markdown",
   "metadata": {},
   "source": [
    "### 0. Carga de los datos"
   ]
  },
  {
   "cell_type": "code",
   "execution_count": 37,
   "metadata": {},
   "outputs": [
    {
     "name": "stderr",
     "output_type": "stream",
     "text": [
      "C:\\Users\\Angelica\\AppData\\Local\\Temp\\ipykernel_25040\\63210814.py:1: DtypeWarning: Columns (10) have mixed types. Specify dtype option on import or set low_memory=False.\n",
      "  movie_test  = pd.read_csv('../datasets_original/movies_dataset.csv', sep=',',quotechar='\"', encoding='utf-8' )\n"
     ]
    }
   ],
   "source": [
    "movie_test  = pd.read_csv('../datasets_original/movies_dataset.csv', sep=',',quotechar='\"', encoding='utf-8' )"
   ]
  },
  {
   "cell_type": "code",
   "execution_count": 38,
   "metadata": {},
   "outputs": [
    {
     "name": "stdout",
     "output_type": "stream",
     "text": [
      "(45466, 24)\n"
     ]
    }
   ],
   "source": [
    "print(movie_test.shape)"
   ]
  },
  {
   "cell_type": "markdown",
   "metadata": {},
   "source": [
    "Copia del dataset para aplicar las transformaciones"
   ]
  },
  {
   "cell_type": "code",
   "execution_count": 39,
   "metadata": {},
   "outputs": [],
   "source": [
    "movie_test_df = movie_test.copy()"
   ]
  },
  {
   "cell_type": "code",
   "execution_count": 40,
   "metadata": {},
   "outputs": [
    {
     "data": {
      "text/html": [
       "<div>\n",
       "<style scoped>\n",
       "    .dataframe tbody tr th:only-of-type {\n",
       "        vertical-align: middle;\n",
       "    }\n",
       "\n",
       "    .dataframe tbody tr th {\n",
       "        vertical-align: top;\n",
       "    }\n",
       "\n",
       "    .dataframe thead th {\n",
       "        text-align: right;\n",
       "    }\n",
       "</style>\n",
       "<table border=\"1\" class=\"dataframe\">\n",
       "  <thead>\n",
       "    <tr style=\"text-align: right;\">\n",
       "      <th></th>\n",
       "      <th>adult</th>\n",
       "      <th>belongs_to_collection</th>\n",
       "      <th>budget</th>\n",
       "      <th>genres</th>\n",
       "      <th>homepage</th>\n",
       "      <th>id</th>\n",
       "      <th>imdb_id</th>\n",
       "      <th>original_language</th>\n",
       "      <th>original_title</th>\n",
       "      <th>overview</th>\n",
       "      <th>...</th>\n",
       "      <th>release_date</th>\n",
       "      <th>revenue</th>\n",
       "      <th>runtime</th>\n",
       "      <th>spoken_languages</th>\n",
       "      <th>status</th>\n",
       "      <th>tagline</th>\n",
       "      <th>title</th>\n",
       "      <th>video</th>\n",
       "      <th>vote_average</th>\n",
       "      <th>vote_count</th>\n",
       "    </tr>\n",
       "  </thead>\n",
       "  <tbody>\n",
       "    <tr>\n",
       "      <th>0</th>\n",
       "      <td>False</td>\n",
       "      <td>{'id': 10194, 'name': 'Toy Story Collection', ...</td>\n",
       "      <td>30000000</td>\n",
       "      <td>[{'id': 16, 'name': 'Animation'}, {'id': 35, '...</td>\n",
       "      <td>http://toystory.disney.com/toy-story</td>\n",
       "      <td>862</td>\n",
       "      <td>tt0114709</td>\n",
       "      <td>en</td>\n",
       "      <td>Toy Story</td>\n",
       "      <td>Led by Woody, Andy's toys live happily in his ...</td>\n",
       "      <td>...</td>\n",
       "      <td>1995-10-30</td>\n",
       "      <td>373554033.0</td>\n",
       "      <td>81.0</td>\n",
       "      <td>[{'iso_639_1': 'en', 'name': 'English'}]</td>\n",
       "      <td>Released</td>\n",
       "      <td>NaN</td>\n",
       "      <td>Toy Story</td>\n",
       "      <td>False</td>\n",
       "      <td>7.7</td>\n",
       "      <td>5415.0</td>\n",
       "    </tr>\n",
       "  </tbody>\n",
       "</table>\n",
       "<p>1 rows × 24 columns</p>\n",
       "</div>"
      ],
      "text/plain": [
       "   adult                              belongs_to_collection    budget  \\\n",
       "0  False  {'id': 10194, 'name': 'Toy Story Collection', ...  30000000   \n",
       "\n",
       "                                              genres  \\\n",
       "0  [{'id': 16, 'name': 'Animation'}, {'id': 35, '...   \n",
       "\n",
       "                               homepage   id    imdb_id original_language  \\\n",
       "0  http://toystory.disney.com/toy-story  862  tt0114709                en   \n",
       "\n",
       "  original_title                                           overview  ...  \\\n",
       "0      Toy Story  Led by Woody, Andy's toys live happily in his ...  ...   \n",
       "\n",
       "  release_date      revenue runtime                          spoken_languages  \\\n",
       "0   1995-10-30  373554033.0    81.0  [{'iso_639_1': 'en', 'name': 'English'}]   \n",
       "\n",
       "     status  tagline      title  video vote_average vote_count  \n",
       "0  Released      NaN  Toy Story  False          7.7     5415.0  \n",
       "\n",
       "[1 rows x 24 columns]"
      ]
     },
     "execution_count": 40,
     "metadata": {},
     "output_type": "execute_result"
    }
   ],
   "source": [
    "movie_test_df.head(1)"
   ]
  },
  {
   "cell_type": "markdown",
   "metadata": {},
   "source": [
    "### 1. TRANSFORMACION - Eliminación columnas"
   ]
  },
  {
   "cell_type": "markdown",
   "metadata": {},
   "source": [
    "**Desanidamiento columnas**"
   ]
  },
  {
   "cell_type": "code",
   "execution_count": 42,
   "metadata": {},
   "outputs": [],
   "source": [
    "def desanidar_concat(df, col):\n",
    "    # Convertir cadenas de texto en listas/diccionarios si es necesario\n",
    "    df[col] = df[col].apply(lambda x: ast.literal_eval(x) if isinstance(x, str) else x)\n",
    "    \n",
    "    # Explode para listas de diccionarios o manejar diccionarios directamente\n",
    "    if df[col].apply(lambda x: isinstance(x,list)).any(): \n",
    "        col_norm = pd.json_normalize(df[col].explode().dropna()).reset_index(drop=True)\n",
    "    else: # para diccionarios\n",
    "        col_norm = pd.json_normalize(df[col].dropna()).reset_index(drop=True)\n",
    "    \n",
    "    # Rename las nuevas columnas\n",
    "    col_norm = col_norm.add_suffix(f'_{col}')\n",
    "\n",
    "    #Elimina columna original, agrega columnas nuevas al dataframe\n",
    "    #df = pd.concat([df.drop(columns=[col]) , col_norm], axis=1)\n",
    "    new_df= df.drop(columns=col).join(col_norm)\n",
    "\n",
    "    return new_df"
   ]
  },
  {
   "cell_type": "code",
   "execution_count": 43,
   "metadata": {},
   "outputs": [],
   "source": [
    "for columna in ['belongs_to_collection','genres', 'production_companies', 'production_countries', 'spoken_languages']:\n",
    "   movie_test_df = desanidar_concat(movie_test_df, columna)"
   ]
  },
  {
   "cell_type": "code",
   "execution_count": 45,
   "metadata": {},
   "outputs": [
    {
     "name": "stdout",
     "output_type": "stream",
     "text": [
      "24\n",
      "31\n"
     ]
    }
   ],
   "source": [
    "print(len(movie_test.columns))\n",
    "print(len(movie_test_df.columns))"
   ]
  },
  {
   "cell_type": "markdown",
   "metadata": {},
   "source": []
  },
  {
   "cell_type": "markdown",
   "metadata": {},
   "source": [
    "**VALORES NULOS A '0'**\n",
    "COLUMNAS:\n",
    "- budget\n",
    "- revenue\n",
    "  \n",
    "Conversión a enteros y valores nulos seteados con '0'\n",
    "- pd.to_numeric   : convierte los valores de la columna, maneja errores 'coerce' (lo paso a nan)\n",
    "- fillna(0)       : valores nan a 0\n",
    "- astype('Int64') : valores enteros"
   ]
  },
  {
   "cell_type": "code",
   "execution_count": 46,
   "metadata": {},
   "outputs": [],
   "source": [
    "movie_test_df[\"budget\"]= pd.to_numeric(movie_test_df[\"budget\"], errors='coerce').fillna(0).astype('Int64')\n",
    "movie_test_df[\"revenue\"]= pd.to_numeric(movie_test_df[\"revenue\"], errors= 'coerce').fillna(0).astype('Int64')"
   ]
  },
  {
   "cell_type": "code",
   "execution_count": 47,
   "metadata": {},
   "outputs": [
    {
     "name": "stdout",
     "output_type": "stream",
     "text": [
      "<class 'str'>\n",
      "<class 'numpy.int64'>\n",
      "<class 'numpy.float64'>\n",
      "<class 'numpy.int64'>\n"
     ]
    }
   ],
   "source": [
    "#Se verifica cambios\n",
    "print(type(movie_test[\"budget\"][0]))\n",
    "print(type(movie_test_df[\"budget\"][0]))\n",
    "\n",
    "print(type(movie_test[\"revenue\"][0]))\n",
    "print(type(movie_test_df[\"revenue\"][0]))"
   ]
  },
  {
   "cell_type": "markdown",
   "metadata": {},
   "source": [
    "**COLUMNA RETURN**\n",
    "\n",
    "return = revenue/budget (recaudacion/presupuesto)"
   ]
  },
  {
   "cell_type": "code",
   "execution_count": 48,
   "metadata": {},
   "outputs": [],
   "source": [
    "movie_test_df[\"return\"] = movie_test_df.apply(\n",
    "                        lambda fila: round( fila['revenue']/fila['budget'], 2) if fila['budget']!= 0  else 0, axis = 1)"
   ]
  },
  {
   "cell_type": "markdown",
   "metadata": {},
   "source": [
    "* ELIMINACIÓN VALORES NULOS 'release date' <p>\n",
    "* COLUMNA RELEASE_YEAR\n",
    "\n",
    "- Pasar de string a formato datetime (AAAA-mm-dd)\n",
    "- Obtiene la columna release_year, a formato Int\n",
    "- Se elimina las filas donde haya valores nulos en 'release_date'"
   ]
  },
  {
   "cell_type": "code",
   "execution_count": null,
   "metadata": {},
   "outputs": [
    {
     "data": {
      "text/html": [
       "<div>\n",
       "<style scoped>\n",
       "    .dataframe tbody tr th:only-of-type {\n",
       "        vertical-align: middle;\n",
       "    }\n",
       "\n",
       "    .dataframe tbody tr th {\n",
       "        vertical-align: top;\n",
       "    }\n",
       "\n",
       "    .dataframe thead th {\n",
       "        text-align: right;\n",
       "    }\n",
       "</style>\n",
       "<table border=\"1\" class=\"dataframe\">\n",
       "  <thead>\n",
       "    <tr style=\"text-align: right;\">\n",
       "      <th></th>\n",
       "      <th>release_date</th>\n",
       "      <th>release_year</th>\n",
       "    </tr>\n",
       "  </thead>\n",
       "  <tbody>\n",
       "    <tr>\n",
       "      <th>0</th>\n",
       "      <td>1995-10-30</td>\n",
       "      <td>1995</td>\n",
       "    </tr>\n",
       "    <tr>\n",
       "      <th>1</th>\n",
       "      <td>1995-12-15</td>\n",
       "      <td>1995</td>\n",
       "    </tr>\n",
       "    <tr>\n",
       "      <th>2</th>\n",
       "      <td>1995-12-22</td>\n",
       "      <td>1995</td>\n",
       "    </tr>\n",
       "    <tr>\n",
       "      <th>3</th>\n",
       "      <td>1995-12-22</td>\n",
       "      <td>1995</td>\n",
       "    </tr>\n",
       "    <tr>\n",
       "      <th>4</th>\n",
       "      <td>1995-02-10</td>\n",
       "      <td>1995</td>\n",
       "    </tr>\n",
       "  </tbody>\n",
       "</table>\n",
       "</div>"
      ],
      "text/plain": [
       "  release_date  release_year\n",
       "0   1995-10-30          1995\n",
       "1   1995-12-15          1995\n",
       "2   1995-12-22          1995\n",
       "3   1995-12-22          1995\n",
       "4   1995-02-10          1995"
      ]
     },
     "execution_count": 53,
     "metadata": {},
     "output_type": "execute_result"
    }
   ],
   "source": [
    "movie_test_df[\"release_date\"] = pd.to_datetime(movie_test_df[\"release_date\"], errors= 'coerce', format='%Y-%m-%d')\n",
    "movie_test_df[\"release_year\"] = movie_test_df[\"release_date\"].dt.year.astype('Int64')\n",
    "\n",
    "movie_test_df = movie_test_df.dropna(subset= 'release_date')\n",
    "\n",
    "movie_test_df[['release_date','release_year']].head(5)"
   ]
  },
  {
   "cell_type": "markdown",
   "metadata": {},
   "source": [
    "Comprobacion de eliminación de valores nulos"
   ]
  },
  {
   "cell_type": "code",
   "execution_count": 55,
   "metadata": {},
   "outputs": [
    {
     "name": "stdout",
     "output_type": "stream",
     "text": [
      "87\n",
      "0\n",
      "0\n"
     ]
    }
   ],
   "source": [
    "print(movie_test[\"release_date\"].isnull().sum())\n",
    "print(movie_test_df[\"release_date\"].isnull().sum())\n",
    "print(movie_test_df[\"release_year\"].isnull().sum())"
   ]
  },
  {
   "cell_type": "markdown",
   "metadata": {},
   "source": [
    "COLUMNAS a eliminar:"
   ]
  },
  {
   "cell_type": "markdown",
   "metadata": {},
   "source": [
    "Se analiza valores nulos en cada columna"
   ]
  },
  {
   "cell_type": "code",
   "execution_count": 54,
   "metadata": {},
   "outputs": [
    {
     "name": "stdout",
     "output_type": "stream",
     "text": [
      "adult                                      0\n",
      "budget                                     0\n",
      "homepage                               37610\n",
      "id                                         0\n",
      "imdb_id                                   14\n",
      "original_language                         11\n",
      "original_title                             0\n",
      "overview                                 941\n",
      "popularity                                 0\n",
      "poster_path                              339\n",
      "release_date                               0\n",
      "revenue                                    0\n",
      "runtime                                  246\n",
      "status                                    80\n",
      "tagline                                24978\n",
      "title                                      0\n",
      "video                                      0\n",
      "vote_average                               0\n",
      "vote_count                                 0\n",
      "id_belongs_to_collection               40889\n",
      "name_belongs_to_collection             40889\n",
      "poster_path_belongs_to_collection      41432\n",
      "backdrop_path_belongs_to_collection    42117\n",
      "id_genres                                  0\n",
      "name_genres                                0\n",
      "name_production_companies                  1\n",
      "id_production_companies                    1\n",
      "iso_3166_1_production_countries            3\n",
      "name_production_countries                  3\n",
      "iso_639_1_spoken_languages                 0\n",
      "name_spoken_languages                      0\n",
      "return                                     0\n",
      "release_year                               0\n",
      "dtype: int64\n"
     ]
    }
   ],
   "source": [
    "nulos = movie_test_df.isnull().sum()\n",
    "print(nulos )"
   ]
  },
  {
   "cell_type": "markdown",
   "metadata": {},
   "source": [
    "- Columnas a elimniar_ video, imdb_id, adult, original_title, poster_path y homepage.\n",
    "- Columna status, se va a eliminar despues de filtrar las peliculas released\n",
    "- Columnas que no se van a usar en analisis o funciones: belongs_to_collection, "
   ]
  },
  {
   "cell_type": "code",
   "execution_count": null,
   "metadata": {},
   "outputs": [],
   "source": [
    "movie_test_df[movie_test_df['status']=='released']"
   ]
  },
  {
   "cell_type": "code",
   "execution_count": 58,
   "metadata": {},
   "outputs": [],
   "source": [
    "columnas = [ 'video', 'imdb_id', 'adult', 'original_title', 'poster_path' , 'homepage','status' , 'tagline', 'id_belongs_to_collection', \n",
    "            'name_belongs_to_collection',\n",
    "       'poster_path_belongs_to_collection',\n",
    "       'backdrop_path_belongs_to_collection', 'name_production_companies', 'id_production_companies', 'name_production_countries',\n",
    "       'iso_3166_1_production_countries','iso_639_1_spoken_languages', 'name_spoken_languages']\n",
    "\n",
    "\n",
    "movie_test_df = movie_test_df.drop(columnas, axis=1)"
   ]
  },
  {
   "cell_type": "code",
   "execution_count": 59,
   "metadata": {},
   "outputs": [
    {
     "data": {
      "text/html": [
       "<div>\n",
       "<style scoped>\n",
       "    .dataframe tbody tr th:only-of-type {\n",
       "        vertical-align: middle;\n",
       "    }\n",
       "\n",
       "    .dataframe tbody tr th {\n",
       "        vertical-align: top;\n",
       "    }\n",
       "\n",
       "    .dataframe thead th {\n",
       "        text-align: right;\n",
       "    }\n",
       "</style>\n",
       "<table border=\"1\" class=\"dataframe\">\n",
       "  <thead>\n",
       "    <tr style=\"text-align: right;\">\n",
       "      <th></th>\n",
       "      <th>budget</th>\n",
       "      <th>id</th>\n",
       "      <th>original_language</th>\n",
       "      <th>overview</th>\n",
       "      <th>popularity</th>\n",
       "      <th>release_date</th>\n",
       "      <th>revenue</th>\n",
       "      <th>runtime</th>\n",
       "      <th>title</th>\n",
       "      <th>vote_average</th>\n",
       "      <th>vote_count</th>\n",
       "      <th>id_genres</th>\n",
       "      <th>name_genres</th>\n",
       "      <th>return</th>\n",
       "      <th>release_year</th>\n",
       "    </tr>\n",
       "  </thead>\n",
       "  <tbody>\n",
       "    <tr>\n",
       "      <th>0</th>\n",
       "      <td>30000000</td>\n",
       "      <td>862</td>\n",
       "      <td>en</td>\n",
       "      <td>Led by Woody, Andy's toys live happily in his ...</td>\n",
       "      <td>21.946943</td>\n",
       "      <td>1995-10-30</td>\n",
       "      <td>373554033</td>\n",
       "      <td>81.0</td>\n",
       "      <td>Toy Story</td>\n",
       "      <td>7.7</td>\n",
       "      <td>5415.0</td>\n",
       "      <td>16</td>\n",
       "      <td>Animation</td>\n",
       "      <td>12.45</td>\n",
       "      <td>1995</td>\n",
       "    </tr>\n",
       "  </tbody>\n",
       "</table>\n",
       "</div>"
      ],
      "text/plain": [
       "     budget   id original_language  \\\n",
       "0  30000000  862                en   \n",
       "\n",
       "                                            overview popularity release_date  \\\n",
       "0  Led by Woody, Andy's toys live happily in his ...  21.946943   1995-10-30   \n",
       "\n",
       "     revenue  runtime      title  vote_average  vote_count  id_genres  \\\n",
       "0  373554033     81.0  Toy Story           7.7      5415.0         16   \n",
       "\n",
       "  name_genres  return  release_year  \n",
       "0   Animation   12.45          1995  "
      ]
     },
     "execution_count": 59,
     "metadata": {},
     "output_type": "execute_result"
    }
   ],
   "source": [
    "movie_test_df.head(1)"
   ]
  },
  {
   "cell_type": "markdown",
   "metadata": {},
   "source": [
    "**VALORES NULOS**"
   ]
  },
  {
   "cell_type": "code",
   "execution_count": 60,
   "metadata": {},
   "outputs": [
    {
     "name": "stdout",
     "output_type": "stream",
     "text": [
      "budget                 0\n",
      "id                     0\n",
      "original_language     11\n",
      "overview             941\n",
      "popularity             0\n",
      "release_date           0\n",
      "revenue                0\n",
      "runtime              246\n",
      "title                  0\n",
      "vote_average           0\n",
      "vote_count             0\n",
      "id_genres              0\n",
      "name_genres            0\n",
      "return                 0\n",
      "release_year           0\n",
      "dtype: int64\n"
     ]
    }
   ],
   "source": [
    "nulos = movie_test_df.isnull().sum()\n",
    "print(nulos )"
   ]
  },
  {
   "cell_type": "code",
   "execution_count": 62,
   "metadata": {},
   "outputs": [],
   "source": [
    "# Eliminacion de filas por valores nulos \n",
    "movie_test_df = movie_test_df.dropna(subset=['overview','original_language' ,'runtime'])"
   ]
  },
  {
   "cell_type": "markdown",
   "metadata": {},
   "source": [
    "Comparación dataset original vs ETL(dataset)"
   ]
  },
  {
   "cell_type": "code",
   "execution_count": 64,
   "metadata": {},
   "outputs": [
    {
     "name": "stdout",
     "output_type": "stream",
     "text": [
      "(45466, 24)\n",
      "(44425, 15)\n"
     ]
    }
   ],
   "source": [
    "print(movie_test.shape)\n",
    "print(movie_test_df.shape)"
   ]
  },
  {
   "cell_type": "markdown",
   "metadata": {},
   "source": [
    "### CAMBIAR NOMBRE y TIPO DATOS (string => int, float, etc)"
   ]
  },
  {
   "cell_type": "code",
   "execution_count": 73,
   "metadata": {},
   "outputs": [
    {
     "name": "stdout",
     "output_type": "stream",
     "text": [
      "Tipo de dato de budget:            <class 'numpy.int64'>\n",
      "Tipo de dato de id:            <class 'str'>\n",
      "Tipo de dato de original_language:            <class 'str'>\n",
      "Tipo de dato de overview:            <class 'str'>\n",
      "Tipo de dato de popularity:            <class 'float'>\n",
      "Tipo de dato de release_date:            <class 'pandas._libs.tslibs.timestamps.Timestamp'>\n",
      "Tipo de dato de revenue:            <class 'numpy.int64'>\n",
      "Tipo de dato de runtime:            <class 'numpy.float64'>\n",
      "Tipo de dato de title:            <class 'str'>\n",
      "Tipo de dato de vote_average:            <class 'numpy.float64'>\n",
      "Tipo de dato de vote_count:            <class 'numpy.float64'>\n",
      "Tipo de dato de id_genres:            <class 'numpy.int64'>\n",
      "Tipo de dato de name_genres:            <class 'str'>\n",
      "Tipo de dato de return:            <class 'numpy.float64'>\n",
      "Tipo de dato de release_year:            <class 'numpy.int64'>\n"
     ]
    }
   ],
   "source": [
    "columnas = movie_test_df.columns.tolist()\n",
    "for i in columnas:\n",
    "    print(f'Tipo de dato de {i}:            { type(movie_test_df[i][0]) }')"
   ]
  },
  {
   "cell_type": "markdown",
   "metadata": {},
   "source": [
    "Cambiar tipo de datos\n",
    "- id           (str => int)\n",
    "- runtime      (float => int)\n",
    "- vote_count   (float => int)\n",
    "- popularity  a 2 decimales"
   ]
  },
  {
   "cell_type": "code",
   "execution_count": null,
   "metadata": {},
   "outputs": [],
   "source": [
    "movie_test_df[\"id\"] = movie_test_df[\"id\"].astype('Int64')\n",
    "movie_test_df[\"runtime\"] = movie_test_df[\"runtime\"].astype('Int64')\n",
    "movie_test_df[\"vote_count\"] = movie_test_df[\"vote_count\"].astype('Int64')\n",
    "\n",
    "movie_test_df[\"popularity\"] = movie_test_df[\"popularity\"].astype(float)\n",
    "movie_test_df[\"popularity\"] = movie_test_df[\"popularity\"].round(2)"
   ]
  },
  {
   "cell_type": "code",
   "execution_count": 80,
   "metadata": {},
   "outputs": [
    {
     "data": {
      "text/html": [
       "<div>\n",
       "<style scoped>\n",
       "    .dataframe tbody tr th:only-of-type {\n",
       "        vertical-align: middle;\n",
       "    }\n",
       "\n",
       "    .dataframe tbody tr th {\n",
       "        vertical-align: top;\n",
       "    }\n",
       "\n",
       "    .dataframe thead th {\n",
       "        text-align: right;\n",
       "    }\n",
       "</style>\n",
       "<table border=\"1\" class=\"dataframe\">\n",
       "  <thead>\n",
       "    <tr style=\"text-align: right;\">\n",
       "      <th></th>\n",
       "      <th>budget</th>\n",
       "      <th>id_movie</th>\n",
       "      <th>original_language</th>\n",
       "      <th>overview</th>\n",
       "      <th>popularity</th>\n",
       "      <th>release_date</th>\n",
       "      <th>revenue</th>\n",
       "      <th>runtime</th>\n",
       "      <th>title</th>\n",
       "      <th>vote_average</th>\n",
       "      <th>vote_count</th>\n",
       "      <th>id_genres</th>\n",
       "      <th>name_genres</th>\n",
       "      <th>return</th>\n",
       "      <th>release_year</th>\n",
       "    </tr>\n",
       "  </thead>\n",
       "  <tbody>\n",
       "    <tr>\n",
       "      <th>0</th>\n",
       "      <td>30000000</td>\n",
       "      <td>862</td>\n",
       "      <td>en</td>\n",
       "      <td>Led by Woody, Andy's toys live happily in his ...</td>\n",
       "      <td>21.95</td>\n",
       "      <td>1995-10-30</td>\n",
       "      <td>373554033</td>\n",
       "      <td>81</td>\n",
       "      <td>Toy Story</td>\n",
       "      <td>7.7</td>\n",
       "      <td>5415</td>\n",
       "      <td>16</td>\n",
       "      <td>Animation</td>\n",
       "      <td>12.45</td>\n",
       "      <td>1995</td>\n",
       "    </tr>\n",
       "  </tbody>\n",
       "</table>\n",
       "</div>"
      ],
      "text/plain": [
       "     budget  id_movie original_language  \\\n",
       "0  30000000       862                en   \n",
       "\n",
       "                                            overview  popularity release_date  \\\n",
       "0  Led by Woody, Andy's toys live happily in his ...       21.95   1995-10-30   \n",
       "\n",
       "     revenue  runtime      title  vote_average  vote_count  id_genres  \\\n",
       "0  373554033       81  Toy Story           7.7        5415         16   \n",
       "\n",
       "  name_genres  return  release_year  \n",
       "0   Animation   12.45          1995  "
      ]
     },
     "execution_count": 80,
     "metadata": {},
     "output_type": "execute_result"
    }
   ],
   "source": [
    "movie_test_df.head(1)"
   ]
  },
  {
   "cell_type": "markdown",
   "metadata": {},
   "source": [
    "Cambiar nombres a columnas:"
   ]
  },
  {
   "cell_type": "code",
   "execution_count": 79,
   "metadata": {},
   "outputs": [],
   "source": [
    "movie_test_df  =movie_test_df.rename( {'id':'id_movie'} , axis=1)"
   ]
  },
  {
   "cell_type": "markdown",
   "metadata": {},
   "source": [
    "### VERIFICACIÓN IDENTIFICADORES UNICOS"
   ]
  },
  {
   "cell_type": "markdown",
   "metadata": {},
   "source": [
    "Cantidad de valores duplicados, luego de aparcer por segunda vez <p>\n",
    "Identificador único: 'id'"
   ]
  },
  {
   "cell_type": "code",
   "execution_count": 85,
   "metadata": {},
   "outputs": [
    {
     "name": "stdout",
     "output_type": "stream",
     "text": [
      "Hay 30 id_movies duplicados\n"
     ]
    }
   ],
   "source": [
    "duplicados= movie_test_df[movie_test_df[\"id_movie\"].duplicated()]\n",
    "print(f'Hay {len(duplicados)} id_movies duplicados')\n"
   ]
  },
  {
   "cell_type": "markdown",
   "metadata": {},
   "source": [
    "Eliminación de valores duplicados de la columna 'id_movie'"
   ]
  },
  {
   "cell_type": "code",
   "execution_count": 86,
   "metadata": {},
   "outputs": [],
   "source": [
    "# keep='first' se mantiene el id original, y se elimina el duplicado\n",
    "movie_test_df.drop_duplicates(subset='id_movie', keep='first', inplace=True)"
   ]
  },
  {
   "cell_type": "markdown",
   "metadata": {},
   "source": [
    "Se verifica que ya no existen valores duplicados"
   ]
  },
  {
   "cell_type": "code",
   "execution_count": 87,
   "metadata": {},
   "outputs": [
    {
     "name": "stdout",
     "output_type": "stream",
     "text": [
      "0\n"
     ]
    },
    {
     "data": {
      "text/html": [
       "<div>\n",
       "<style scoped>\n",
       "    .dataframe tbody tr th:only-of-type {\n",
       "        vertical-align: middle;\n",
       "    }\n",
       "\n",
       "    .dataframe tbody tr th {\n",
       "        vertical-align: top;\n",
       "    }\n",
       "\n",
       "    .dataframe thead th {\n",
       "        text-align: right;\n",
       "    }\n",
       "</style>\n",
       "<table border=\"1\" class=\"dataframe\">\n",
       "  <thead>\n",
       "    <tr style=\"text-align: right;\">\n",
       "      <th></th>\n",
       "      <th>budget</th>\n",
       "      <th>id_movie</th>\n",
       "      <th>original_language</th>\n",
       "      <th>overview</th>\n",
       "      <th>popularity</th>\n",
       "      <th>release_date</th>\n",
       "      <th>revenue</th>\n",
       "      <th>runtime</th>\n",
       "      <th>title</th>\n",
       "      <th>vote_average</th>\n",
       "      <th>vote_count</th>\n",
       "      <th>id_genres</th>\n",
       "      <th>name_genres</th>\n",
       "      <th>return</th>\n",
       "      <th>release_year</th>\n",
       "    </tr>\n",
       "  </thead>\n",
       "  <tbody>\n",
       "  </tbody>\n",
       "</table>\n",
       "</div>"
      ],
      "text/plain": [
       "Empty DataFrame\n",
       "Columns: [budget, id_movie, original_language, overview, popularity, release_date, revenue, runtime, title, vote_average, vote_count, id_genres, name_genres, return, release_year]\n",
       "Index: []"
      ]
     },
     "execution_count": 87,
     "metadata": {},
     "output_type": "execute_result"
    }
   ],
   "source": [
    "duplicados2= movie_test_df[movie_test_df[\"id_movie\"].duplicated()]\n",
    "print(len(duplicados2))\n",
    "duplicados2"
   ]
  },
  {
   "cell_type": "markdown",
   "metadata": {},
   "source": [
    "Se genera tabla externa generos"
   ]
  },
  {
   "cell_type": "code",
   "execution_count": 89,
   "metadata": {},
   "outputs": [
    {
     "data": {
      "text/html": [
       "<div>\n",
       "<style scoped>\n",
       "    .dataframe tbody tr th:only-of-type {\n",
       "        vertical-align: middle;\n",
       "    }\n",
       "\n",
       "    .dataframe tbody tr th {\n",
       "        vertical-align: top;\n",
       "    }\n",
       "\n",
       "    .dataframe thead th {\n",
       "        text-align: right;\n",
       "    }\n",
       "</style>\n",
       "<table border=\"1\" class=\"dataframe\">\n",
       "  <thead>\n",
       "    <tr style=\"text-align: right;\">\n",
       "      <th></th>\n",
       "      <th>id_genres</th>\n",
       "      <th>name_genres</th>\n",
       "    </tr>\n",
       "  </thead>\n",
       "  <tbody>\n",
       "    <tr>\n",
       "      <th>0</th>\n",
       "      <td>16</td>\n",
       "      <td>Animation</td>\n",
       "    </tr>\n",
       "    <tr>\n",
       "      <th>1</th>\n",
       "      <td>35</td>\n",
       "      <td>Comedy</td>\n",
       "    </tr>\n",
       "    <tr>\n",
       "      <th>2</th>\n",
       "      <td>10751</td>\n",
       "      <td>Family</td>\n",
       "    </tr>\n",
       "    <tr>\n",
       "      <th>3</th>\n",
       "      <td>12</td>\n",
       "      <td>Adventure</td>\n",
       "    </tr>\n",
       "    <tr>\n",
       "      <th>4</th>\n",
       "      <td>14</td>\n",
       "      <td>Fantasy</td>\n",
       "    </tr>\n",
       "    <tr>\n",
       "      <th>5</th>\n",
       "      <td>10749</td>\n",
       "      <td>Romance</td>\n",
       "    </tr>\n",
       "    <tr>\n",
       "      <th>6</th>\n",
       "      <td>18</td>\n",
       "      <td>Drama</td>\n",
       "    </tr>\n",
       "    <tr>\n",
       "      <th>7</th>\n",
       "      <td>28</td>\n",
       "      <td>Action</td>\n",
       "    </tr>\n",
       "    <tr>\n",
       "      <th>8</th>\n",
       "      <td>80</td>\n",
       "      <td>Crime</td>\n",
       "    </tr>\n",
       "    <tr>\n",
       "      <th>9</th>\n",
       "      <td>53</td>\n",
       "      <td>Thriller</td>\n",
       "    </tr>\n",
       "    <tr>\n",
       "      <th>10</th>\n",
       "      <td>36</td>\n",
       "      <td>History</td>\n",
       "    </tr>\n",
       "    <tr>\n",
       "      <th>11</th>\n",
       "      <td>878</td>\n",
       "      <td>Science Fiction</td>\n",
       "    </tr>\n",
       "    <tr>\n",
       "      <th>12</th>\n",
       "      <td>9648</td>\n",
       "      <td>Mystery</td>\n",
       "    </tr>\n",
       "    <tr>\n",
       "      <th>13</th>\n",
       "      <td>10752</td>\n",
       "      <td>War</td>\n",
       "    </tr>\n",
       "    <tr>\n",
       "      <th>14</th>\n",
       "      <td>10769</td>\n",
       "      <td>Foreign</td>\n",
       "    </tr>\n",
       "    <tr>\n",
       "      <th>15</th>\n",
       "      <td>10402</td>\n",
       "      <td>Music</td>\n",
       "    </tr>\n",
       "    <tr>\n",
       "      <th>16</th>\n",
       "      <td>27</td>\n",
       "      <td>Horror</td>\n",
       "    </tr>\n",
       "    <tr>\n",
       "      <th>17</th>\n",
       "      <td>99</td>\n",
       "      <td>Documentary</td>\n",
       "    </tr>\n",
       "    <tr>\n",
       "      <th>18</th>\n",
       "      <td>37</td>\n",
       "      <td>Western</td>\n",
       "    </tr>\n",
       "    <tr>\n",
       "      <th>19</th>\n",
       "      <td>10770</td>\n",
       "      <td>TV Movie</td>\n",
       "    </tr>\n",
       "    <tr>\n",
       "      <th>20</th>\n",
       "      <td>11176</td>\n",
       "      <td>Carousel Productions</td>\n",
       "    </tr>\n",
       "    <tr>\n",
       "      <th>21</th>\n",
       "      <td>29812</td>\n",
       "      <td>Telescene Film Group Productions</td>\n",
       "    </tr>\n",
       "  </tbody>\n",
       "</table>\n",
       "</div>"
      ],
      "text/plain": [
       "    id_genres                       name_genres\n",
       "0          16                         Animation\n",
       "1          35                            Comedy\n",
       "2       10751                            Family\n",
       "3          12                         Adventure\n",
       "4          14                           Fantasy\n",
       "5       10749                           Romance\n",
       "6          18                             Drama\n",
       "7          28                            Action\n",
       "8          80                             Crime\n",
       "9          53                          Thriller\n",
       "10         36                           History\n",
       "11        878                   Science Fiction\n",
       "12       9648                           Mystery\n",
       "13      10752                               War\n",
       "14      10769                           Foreign\n",
       "15      10402                             Music\n",
       "16         27                            Horror\n",
       "17         99                       Documentary\n",
       "18         37                           Western\n",
       "19      10770                          TV Movie\n",
       "20      11176              Carousel Productions\n",
       "21      29812  Telescene Film Group Productions"
      ]
     },
     "execution_count": 89,
     "metadata": {},
     "output_type": "execute_result"
    }
   ],
   "source": [
    "genres = movie_test_df[['id_genres', 'name_genres']].drop_duplicates().reset_index(drop=True)\n",
    "movies = movie_test_df.drop(columns=['name_genres'])\n",
    "genres"
   ]
  },
  {
   "cell_type": "code",
   "execution_count": 92,
   "metadata": {},
   "outputs": [],
   "source": [
    "# Cambio del orden 'id_movie'\n",
    "movie_test_df= reordena_colum(movie_test_df, 'id_movie', 0)"
   ]
  },
  {
   "cell_type": "markdown",
   "metadata": {},
   "source": [
    "### CAMBIOS PARA FUNCIONES API"
   ]
  },
  {
   "cell_type": "code",
   "execution_count": 93,
   "metadata": {},
   "outputs": [
    {
     "data": {
      "text/html": [
       "<div>\n",
       "<style scoped>\n",
       "    .dataframe tbody tr th:only-of-type {\n",
       "        vertical-align: middle;\n",
       "    }\n",
       "\n",
       "    .dataframe tbody tr th {\n",
       "        vertical-align: top;\n",
       "    }\n",
       "\n",
       "    .dataframe thead th {\n",
       "        text-align: right;\n",
       "    }\n",
       "</style>\n",
       "<table border=\"1\" class=\"dataframe\">\n",
       "  <thead>\n",
       "    <tr style=\"text-align: right;\">\n",
       "      <th></th>\n",
       "      <th>id_movie</th>\n",
       "      <th>budget</th>\n",
       "      <th>original_language</th>\n",
       "      <th>overview</th>\n",
       "      <th>popularity</th>\n",
       "      <th>release_date</th>\n",
       "      <th>revenue</th>\n",
       "      <th>runtime</th>\n",
       "      <th>title</th>\n",
       "      <th>vote_average</th>\n",
       "      <th>vote_count</th>\n",
       "      <th>id_genres</th>\n",
       "      <th>name_genres</th>\n",
       "      <th>return</th>\n",
       "      <th>release_year</th>\n",
       "    </tr>\n",
       "  </thead>\n",
       "  <tbody>\n",
       "    <tr>\n",
       "      <th>0</th>\n",
       "      <td>862</td>\n",
       "      <td>30000000</td>\n",
       "      <td>en</td>\n",
       "      <td>Led by Woody, Andy's toys live happily in his ...</td>\n",
       "      <td>21.95</td>\n",
       "      <td>1995-10-30</td>\n",
       "      <td>373554033</td>\n",
       "      <td>81</td>\n",
       "      <td>Toy Story</td>\n",
       "      <td>7.7</td>\n",
       "      <td>5415</td>\n",
       "      <td>16</td>\n",
       "      <td>Animation</td>\n",
       "      <td>12.45</td>\n",
       "      <td>1995</td>\n",
       "    </tr>\n",
       "    <tr>\n",
       "      <th>1</th>\n",
       "      <td>8844</td>\n",
       "      <td>65000000</td>\n",
       "      <td>en</td>\n",
       "      <td>When siblings Judy and Peter discover an encha...</td>\n",
       "      <td>17.02</td>\n",
       "      <td>1995-12-15</td>\n",
       "      <td>262797249</td>\n",
       "      <td>104</td>\n",
       "      <td>Jumanji</td>\n",
       "      <td>6.9</td>\n",
       "      <td>2413</td>\n",
       "      <td>35</td>\n",
       "      <td>Comedy</td>\n",
       "      <td>4.04</td>\n",
       "      <td>1995</td>\n",
       "    </tr>\n",
       "    <tr>\n",
       "      <th>2</th>\n",
       "      <td>15602</td>\n",
       "      <td>0</td>\n",
       "      <td>en</td>\n",
       "      <td>A family wedding reignites the ancient feud be...</td>\n",
       "      <td>11.71</td>\n",
       "      <td>1995-12-22</td>\n",
       "      <td>0</td>\n",
       "      <td>101</td>\n",
       "      <td>Grumpier Old Men</td>\n",
       "      <td>6.5</td>\n",
       "      <td>92</td>\n",
       "      <td>10751</td>\n",
       "      <td>Family</td>\n",
       "      <td>0.00</td>\n",
       "      <td>1995</td>\n",
       "    </tr>\n",
       "    <tr>\n",
       "      <th>3</th>\n",
       "      <td>31357</td>\n",
       "      <td>16000000</td>\n",
       "      <td>en</td>\n",
       "      <td>Cheated on, mistreated and stepped on, the wom...</td>\n",
       "      <td>3.86</td>\n",
       "      <td>1995-12-22</td>\n",
       "      <td>81452156</td>\n",
       "      <td>127</td>\n",
       "      <td>Waiting to Exhale</td>\n",
       "      <td>6.1</td>\n",
       "      <td>34</td>\n",
       "      <td>12</td>\n",
       "      <td>Adventure</td>\n",
       "      <td>5.09</td>\n",
       "      <td>1995</td>\n",
       "    </tr>\n",
       "    <tr>\n",
       "      <th>4</th>\n",
       "      <td>11862</td>\n",
       "      <td>0</td>\n",
       "      <td>en</td>\n",
       "      <td>Just when George Banks has recovered from his ...</td>\n",
       "      <td>8.39</td>\n",
       "      <td>1995-02-10</td>\n",
       "      <td>76578911</td>\n",
       "      <td>106</td>\n",
       "      <td>Father of the Bride Part II</td>\n",
       "      <td>5.7</td>\n",
       "      <td>173</td>\n",
       "      <td>14</td>\n",
       "      <td>Fantasy</td>\n",
       "      <td>0.00</td>\n",
       "      <td>1995</td>\n",
       "    </tr>\n",
       "    <tr>\n",
       "      <th>5</th>\n",
       "      <td>949</td>\n",
       "      <td>60000000</td>\n",
       "      <td>en</td>\n",
       "      <td>Obsessive master thief, Neil McCauley leads a ...</td>\n",
       "      <td>17.92</td>\n",
       "      <td>1995-12-15</td>\n",
       "      <td>187436818</td>\n",
       "      <td>170</td>\n",
       "      <td>Heat</td>\n",
       "      <td>7.7</td>\n",
       "      <td>1886</td>\n",
       "      <td>10751</td>\n",
       "      <td>Family</td>\n",
       "      <td>3.12</td>\n",
       "      <td>1995</td>\n",
       "    </tr>\n",
       "    <tr>\n",
       "      <th>6</th>\n",
       "      <td>11860</td>\n",
       "      <td>58000000</td>\n",
       "      <td>en</td>\n",
       "      <td>An ugly duckling having undergone a remarkable...</td>\n",
       "      <td>6.68</td>\n",
       "      <td>1995-12-15</td>\n",
       "      <td>0</td>\n",
       "      <td>127</td>\n",
       "      <td>Sabrina</td>\n",
       "      <td>6.2</td>\n",
       "      <td>141</td>\n",
       "      <td>10749</td>\n",
       "      <td>Romance</td>\n",
       "      <td>0.00</td>\n",
       "      <td>1995</td>\n",
       "    </tr>\n",
       "    <tr>\n",
       "      <th>7</th>\n",
       "      <td>45325</td>\n",
       "      <td>0</td>\n",
       "      <td>en</td>\n",
       "      <td>A mischievous young boy, Tom Sawyer, witnesses...</td>\n",
       "      <td>2.56</td>\n",
       "      <td>1995-12-22</td>\n",
       "      <td>0</td>\n",
       "      <td>97</td>\n",
       "      <td>Tom and Huck</td>\n",
       "      <td>5.4</td>\n",
       "      <td>45</td>\n",
       "      <td>35</td>\n",
       "      <td>Comedy</td>\n",
       "      <td>0.00</td>\n",
       "      <td>1995</td>\n",
       "    </tr>\n",
       "    <tr>\n",
       "      <th>8</th>\n",
       "      <td>9091</td>\n",
       "      <td>35000000</td>\n",
       "      <td>en</td>\n",
       "      <td>International action superstar Jean Claude Van...</td>\n",
       "      <td>5.23</td>\n",
       "      <td>1995-12-22</td>\n",
       "      <td>64350171</td>\n",
       "      <td>106</td>\n",
       "      <td>Sudden Death</td>\n",
       "      <td>5.5</td>\n",
       "      <td>174</td>\n",
       "      <td>35</td>\n",
       "      <td>Comedy</td>\n",
       "      <td>1.84</td>\n",
       "      <td>1995</td>\n",
       "    </tr>\n",
       "    <tr>\n",
       "      <th>9</th>\n",
       "      <td>710</td>\n",
       "      <td>58000000</td>\n",
       "      <td>en</td>\n",
       "      <td>James Bond must unmask the mysterious head of ...</td>\n",
       "      <td>14.69</td>\n",
       "      <td>1995-11-16</td>\n",
       "      <td>352194034</td>\n",
       "      <td>130</td>\n",
       "      <td>GoldenEye</td>\n",
       "      <td>6.6</td>\n",
       "      <td>1194</td>\n",
       "      <td>18</td>\n",
       "      <td>Drama</td>\n",
       "      <td>6.07</td>\n",
       "      <td>1995</td>\n",
       "    </tr>\n",
       "  </tbody>\n",
       "</table>\n",
       "</div>"
      ],
      "text/plain": [
       "   id_movie    budget original_language  \\\n",
       "0       862  30000000                en   \n",
       "1      8844  65000000                en   \n",
       "2     15602         0                en   \n",
       "3     31357  16000000                en   \n",
       "4     11862         0                en   \n",
       "5       949  60000000                en   \n",
       "6     11860  58000000                en   \n",
       "7     45325         0                en   \n",
       "8      9091  35000000                en   \n",
       "9       710  58000000                en   \n",
       "\n",
       "                                            overview  popularity release_date  \\\n",
       "0  Led by Woody, Andy's toys live happily in his ...       21.95   1995-10-30   \n",
       "1  When siblings Judy and Peter discover an encha...       17.02   1995-12-15   \n",
       "2  A family wedding reignites the ancient feud be...       11.71   1995-12-22   \n",
       "3  Cheated on, mistreated and stepped on, the wom...        3.86   1995-12-22   \n",
       "4  Just when George Banks has recovered from his ...        8.39   1995-02-10   \n",
       "5  Obsessive master thief, Neil McCauley leads a ...       17.92   1995-12-15   \n",
       "6  An ugly duckling having undergone a remarkable...        6.68   1995-12-15   \n",
       "7  A mischievous young boy, Tom Sawyer, witnesses...        2.56   1995-12-22   \n",
       "8  International action superstar Jean Claude Van...        5.23   1995-12-22   \n",
       "9  James Bond must unmask the mysterious head of ...       14.69   1995-11-16   \n",
       "\n",
       "     revenue  runtime                        title  vote_average  vote_count  \\\n",
       "0  373554033       81                    Toy Story           7.7        5415   \n",
       "1  262797249      104                      Jumanji           6.9        2413   \n",
       "2          0      101             Grumpier Old Men           6.5          92   \n",
       "3   81452156      127            Waiting to Exhale           6.1          34   \n",
       "4   76578911      106  Father of the Bride Part II           5.7         173   \n",
       "5  187436818      170                         Heat           7.7        1886   \n",
       "6          0      127                      Sabrina           6.2         141   \n",
       "7          0       97                 Tom and Huck           5.4          45   \n",
       "8   64350171      106                 Sudden Death           5.5         174   \n",
       "9  352194034      130                    GoldenEye           6.6        1194   \n",
       "\n",
       "   id_genres name_genres  return  release_year  \n",
       "0         16   Animation   12.45          1995  \n",
       "1         35      Comedy    4.04          1995  \n",
       "2      10751      Family    0.00          1995  \n",
       "3         12   Adventure    5.09          1995  \n",
       "4         14     Fantasy    0.00          1995  \n",
       "5      10751      Family    3.12          1995  \n",
       "6      10749     Romance    0.00          1995  \n",
       "7         35      Comedy    0.00          1995  \n",
       "8         35      Comedy    1.84          1995  \n",
       "9         18       Drama    6.07          1995  "
      ]
     },
     "execution_count": 93,
     "metadata": {},
     "output_type": "execute_result"
    }
   ],
   "source": [
    "movie_test_df.head(10)"
   ]
  },
  {
   "cell_type": "markdown",
   "metadata": {},
   "source": [
    "### EXPORTACIÓN DATASET FINAL "
   ]
  },
  {
   "cell_type": "code",
   "execution_count": 94,
   "metadata": {},
   "outputs": [
    {
     "name": "stdout",
     "output_type": "stream",
     "text": [
      "(44395, 15)\n",
      "<class 'pandas.core.frame.DataFrame'>\n",
      "Index: 44395 entries, 0 to 45465\n",
      "Data columns (total 15 columns):\n",
      " #   Column             Non-Null Count  Dtype         \n",
      "---  ------             --------------  -----         \n",
      " 0   id_movie           44395 non-null  Int64         \n",
      " 1   budget             44395 non-null  Int64         \n",
      " 2   original_language  44395 non-null  object        \n",
      " 3   overview           44395 non-null  object        \n",
      " 4   popularity         44395 non-null  float64       \n",
      " 5   release_date       44395 non-null  datetime64[ns]\n",
      " 6   revenue            44395 non-null  Int64         \n",
      " 7   runtime            44395 non-null  Int64         \n",
      " 8   title              44395 non-null  object        \n",
      " 9   vote_average       44395 non-null  float64       \n",
      " 10  vote_count         44395 non-null  Int64         \n",
      " 11  id_genres          44395 non-null  int64         \n",
      " 12  name_genres        44395 non-null  object        \n",
      " 13  return             44395 non-null  float64       \n",
      " 14  release_year       44395 non-null  Int64         \n",
      "dtypes: Int64(6), datetime64[ns](1), float64(3), int64(1), object(4)\n",
      "memory usage: 5.7+ MB\n"
     ]
    }
   ],
   "source": [
    "print(movie_test_df.shape)\n",
    "movie_test_df.info()"
   ]
  },
  {
   "cell_type": "code",
   "execution_count": 96,
   "metadata": {},
   "outputs": [],
   "source": [
    "movie_test_df.to_parquet('../datasets/movie_dataset_final.parquet', engine='pyarrow')"
   ]
  }
 ],
 "metadata": {
  "kernelspec": {
   "display_name": "Python 3",
   "language": "python",
   "name": "python3"
  },
  "language_info": {
   "codemirror_mode": {
    "name": "ipython",
    "version": 3
   },
   "file_extension": ".py",
   "mimetype": "text/x-python",
   "name": "python",
   "nbconvert_exporter": "python",
   "pygments_lexer": "ipython3",
   "version": "3.11.2"
  }
 },
 "nbformat": 4,
 "nbformat_minor": 2
}
