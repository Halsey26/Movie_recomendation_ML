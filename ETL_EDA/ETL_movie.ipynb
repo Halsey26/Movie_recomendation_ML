{
 "cells": [
  {
   "cell_type": "markdown",
   "metadata": {},
   "source": [
    "## ETL_ MOVIES\n",
    "TRANSFORMACIONES: \n",
    "- Algunos campos, como **belongs_to_collection**, **production_companies** y otros (ver diccionario de datos) están anidados, esto es o bien tienen un diccionario o una lista como valores en cada fila, ¡deberán desanidarlos para poder y unirlos al dataset de nuevo hacer alguna de las consultas de la API! O bien buscar la manera de acceder a esos datos sin desanidarlos.<P>\n",
    "\n",
    "- Los valores nulos de los campos **revenue**, **budget** deben ser rellenados por el número 0.<P>\n",
    "\n",
    "- Los valores nulos del campo **release date** deben eliminarse.<P>\n",
    " \n",
    "- De haber fechas, deberán tener el formato AAAA-mm-dd, además deberán crear la columna **release_year** donde extraerán el año de la fecha de estreno. <P>\n",
    "\n",
    "- Crear la columna con el retorno de inversión, llamada **return** con los campos **revenue** y **budget**, dividiendo estas dos últimas **revenue** / **budget**, cuando no hay datos disponibles para calcularlo, deberá tomar el valor 0. <P>\n",
    "\n",
    "- Eliminar las columnas que no serán utilizadas, **video**,**imdb_id**,**adult**,**original_title**,**poster_path** y **homepage**. <P>"
   ]
  },
  {
   "cell_type": "code",
   "execution_count": 1,
   "metadata": {},
   "outputs": [],
   "source": [
    "import numpy as np\n",
    "import pandas as pd\n",
    "from pandas import json_normalize\n",
    "import ast\n",
    "import sys\n",
    "import os\n",
    "\n",
    "# Agrega el directorio superior al path\n",
    "sys.path.append(os.path.abspath(\"..\"))\n",
    "\n",
    "from funciones.desanidar_concatena import desanidar_concat\n",
    "from funciones.reordena_col import reordena_colum\n"
   ]
  },
  {
   "cell_type": "markdown",
   "metadata": {},
   "source": [
    "### 0. Carga de los datos"
   ]
  },
  {
   "cell_type": "code",
   "execution_count": 2,
   "metadata": {},
   "outputs": [
    {
     "name": "stderr",
     "output_type": "stream",
     "text": [
      "C:\\Users\\Angelica\\AppData\\Local\\Temp\\ipykernel_24104\\63210814.py:1: DtypeWarning: Columns (10) have mixed types. Specify dtype option on import or set low_memory=False.\n",
      "  movie_test  = pd.read_csv('../datasets_original/movies_dataset.csv', sep=',',quotechar='\"', encoding='utf-8' )\n"
     ]
    }
   ],
   "source": [
    "movie_test  = pd.read_csv('../datasets_original/movies_dataset.csv', sep=',',quotechar='\"', encoding='utf-8' )"
   ]
  },
  {
   "cell_type": "code",
   "execution_count": 3,
   "metadata": {},
   "outputs": [
    {
     "name": "stdout",
     "output_type": "stream",
     "text": [
      "(45466, 24)\n"
     ]
    }
   ],
   "source": [
    "print(movie_test.shape)"
   ]
  },
  {
   "cell_type": "markdown",
   "metadata": {},
   "source": [
    "Copia del dataset para aplicar las transformaciones"
   ]
  },
  {
   "cell_type": "code",
   "execution_count": 4,
   "metadata": {},
   "outputs": [],
   "source": [
    "movie_test_df = movie_test.copy()"
   ]
  },
  {
   "cell_type": "code",
   "execution_count": 5,
   "metadata": {},
   "outputs": [
    {
     "data": {
      "text/html": [
       "<div>\n",
       "<style scoped>\n",
       "    .dataframe tbody tr th:only-of-type {\n",
       "        vertical-align: middle;\n",
       "    }\n",
       "\n",
       "    .dataframe tbody tr th {\n",
       "        vertical-align: top;\n",
       "    }\n",
       "\n",
       "    .dataframe thead th {\n",
       "        text-align: right;\n",
       "    }\n",
       "</style>\n",
       "<table border=\"1\" class=\"dataframe\">\n",
       "  <thead>\n",
       "    <tr style=\"text-align: right;\">\n",
       "      <th></th>\n",
       "      <th>adult</th>\n",
       "      <th>belongs_to_collection</th>\n",
       "      <th>budget</th>\n",
       "      <th>genres</th>\n",
       "      <th>homepage</th>\n",
       "      <th>id</th>\n",
       "      <th>imdb_id</th>\n",
       "      <th>original_language</th>\n",
       "      <th>original_title</th>\n",
       "      <th>overview</th>\n",
       "      <th>...</th>\n",
       "      <th>release_date</th>\n",
       "      <th>revenue</th>\n",
       "      <th>runtime</th>\n",
       "      <th>spoken_languages</th>\n",
       "      <th>status</th>\n",
       "      <th>tagline</th>\n",
       "      <th>title</th>\n",
       "      <th>video</th>\n",
       "      <th>vote_average</th>\n",
       "      <th>vote_count</th>\n",
       "    </tr>\n",
       "  </thead>\n",
       "  <tbody>\n",
       "    <tr>\n",
       "      <th>0</th>\n",
       "      <td>False</td>\n",
       "      <td>{'id': 10194, 'name': 'Toy Story Collection', ...</td>\n",
       "      <td>30000000</td>\n",
       "      <td>[{'id': 16, 'name': 'Animation'}, {'id': 35, '...</td>\n",
       "      <td>http://toystory.disney.com/toy-story</td>\n",
       "      <td>862</td>\n",
       "      <td>tt0114709</td>\n",
       "      <td>en</td>\n",
       "      <td>Toy Story</td>\n",
       "      <td>Led by Woody, Andy's toys live happily in his ...</td>\n",
       "      <td>...</td>\n",
       "      <td>1995-10-30</td>\n",
       "      <td>373554033.0</td>\n",
       "      <td>81.0</td>\n",
       "      <td>[{'iso_639_1': 'en', 'name': 'English'}]</td>\n",
       "      <td>Released</td>\n",
       "      <td>NaN</td>\n",
       "      <td>Toy Story</td>\n",
       "      <td>False</td>\n",
       "      <td>7.7</td>\n",
       "      <td>5415.0</td>\n",
       "    </tr>\n",
       "  </tbody>\n",
       "</table>\n",
       "<p>1 rows × 24 columns</p>\n",
       "</div>"
      ],
      "text/plain": [
       "   adult                              belongs_to_collection    budget  \\\n",
       "0  False  {'id': 10194, 'name': 'Toy Story Collection', ...  30000000   \n",
       "\n",
       "                                              genres  \\\n",
       "0  [{'id': 16, 'name': 'Animation'}, {'id': 35, '...   \n",
       "\n",
       "                               homepage   id    imdb_id original_language  \\\n",
       "0  http://toystory.disney.com/toy-story  862  tt0114709                en   \n",
       "\n",
       "  original_title                                           overview  ...  \\\n",
       "0      Toy Story  Led by Woody, Andy's toys live happily in his ...  ...   \n",
       "\n",
       "  release_date      revenue runtime                          spoken_languages  \\\n",
       "0   1995-10-30  373554033.0    81.0  [{'iso_639_1': 'en', 'name': 'English'}]   \n",
       "\n",
       "     status  tagline      title  video vote_average vote_count  \n",
       "0  Released      NaN  Toy Story  False          7.7     5415.0  \n",
       "\n",
       "[1 rows x 24 columns]"
      ]
     },
     "execution_count": 5,
     "metadata": {},
     "output_type": "execute_result"
    }
   ],
   "source": [
    "movie_test_df.head(1)"
   ]
  },
  {
   "cell_type": "markdown",
   "metadata": {},
   "source": [
    "### 1. TRANSFORMACION - Eliminación columnas"
   ]
  },
  {
   "cell_type": "markdown",
   "metadata": {},
   "source": [
    "**Desanidamiento columnas**"
   ]
  },
  {
   "cell_type": "code",
   "execution_count": 6,
   "metadata": {},
   "outputs": [],
   "source": [
    "for columna in ['belongs_to_collection','genres', 'production_companies', 'production_countries', 'spoken_languages']:\n",
    "   movie_test_df = desanidar_concat(movie_test_df, columna)"
   ]
  },
  {
   "cell_type": "code",
   "execution_count": 7,
   "metadata": {},
   "outputs": [
    {
     "name": "stdout",
     "output_type": "stream",
     "text": [
      "24\n",
      "31\n"
     ]
    }
   ],
   "source": [
    "print(len(movie_test.columns))\n",
    "print(len(movie_test_df.columns))"
   ]
  },
  {
   "cell_type": "markdown",
   "metadata": {},
   "source": [
    "**VALORES NULOS A '0'**\n",
    "COLUMNAS:\n",
    "- budget\n",
    "- revenue\n",
    "  \n",
    "Conversión a enteros y valores nulos seteados con '0'\n",
    "- pd.to_numeric   : convierte los valores de la columna, maneja errores 'coerce' (lo paso a nan)\n",
    "- fillna(0)       : valores nan a 0\n",
    "- astype('Int64') : valores enteros"
   ]
  },
  {
   "cell_type": "code",
   "execution_count": 8,
   "metadata": {},
   "outputs": [],
   "source": [
    "movie_test_df[\"budget\"]= pd.to_numeric(movie_test_df[\"budget\"], errors='coerce').fillna(0).astype('Int64')\n",
    "movie_test_df[\"revenue\"]= pd.to_numeric(movie_test_df[\"revenue\"], errors= 'coerce').fillna(0).astype('Int64')"
   ]
  },
  {
   "cell_type": "code",
   "execution_count": 9,
   "metadata": {},
   "outputs": [
    {
     "name": "stdout",
     "output_type": "stream",
     "text": [
      "<class 'str'>\n",
      "<class 'numpy.int64'>\n",
      "<class 'numpy.float64'>\n",
      "<class 'numpy.int64'>\n"
     ]
    }
   ],
   "source": [
    "#Se verifica cambios\n",
    "print(type(movie_test[\"budget\"][0]))\n",
    "print(type(movie_test_df[\"budget\"][0]))\n",
    "\n",
    "print(type(movie_test[\"revenue\"][0]))\n",
    "print(type(movie_test_df[\"revenue\"][0]))"
   ]
  },
  {
   "cell_type": "markdown",
   "metadata": {},
   "source": [
    "**COLUMNA RETURN**\n",
    "\n",
    "return = revenue/budget (recaudacion/presupuesto)"
   ]
  },
  {
   "cell_type": "code",
   "execution_count": 10,
   "metadata": {},
   "outputs": [],
   "source": [
    "movie_test_df[\"return\"] = movie_test_df.apply(\n",
    "                        lambda fila: round( fila['revenue']/fila['budget'], 2) if fila['budget']!= 0  else 0, axis = 1)"
   ]
  },
  {
   "cell_type": "markdown",
   "metadata": {},
   "source": [
    "* ELIMINACIÓN VALORES NULOS 'release date' <p>\n",
    "* COLUMNA RELEASE_YEAR\n",
    "\n",
    "- Pasar de string a formato datetime (AAAA-mm-dd)\n",
    "- Obtiene la columna release_year, a formato Int\n",
    "- Se elimina las filas donde haya valores nulos en 'release_date'"
   ]
  },
  {
   "cell_type": "code",
   "execution_count": 11,
   "metadata": {},
   "outputs": [
    {
     "data": {
      "text/html": [
       "<div>\n",
       "<style scoped>\n",
       "    .dataframe tbody tr th:only-of-type {\n",
       "        vertical-align: middle;\n",
       "    }\n",
       "\n",
       "    .dataframe tbody tr th {\n",
       "        vertical-align: top;\n",
       "    }\n",
       "\n",
       "    .dataframe thead th {\n",
       "        text-align: right;\n",
       "    }\n",
       "</style>\n",
       "<table border=\"1\" class=\"dataframe\">\n",
       "  <thead>\n",
       "    <tr style=\"text-align: right;\">\n",
       "      <th></th>\n",
       "      <th>release_date</th>\n",
       "      <th>release_year</th>\n",
       "    </tr>\n",
       "  </thead>\n",
       "  <tbody>\n",
       "    <tr>\n",
       "      <th>0</th>\n",
       "      <td>1995-10-30</td>\n",
       "      <td>1995</td>\n",
       "    </tr>\n",
       "    <tr>\n",
       "      <th>1</th>\n",
       "      <td>1995-12-15</td>\n",
       "      <td>1995</td>\n",
       "    </tr>\n",
       "    <tr>\n",
       "      <th>2</th>\n",
       "      <td>1995-12-22</td>\n",
       "      <td>1995</td>\n",
       "    </tr>\n",
       "    <tr>\n",
       "      <th>3</th>\n",
       "      <td>1995-12-22</td>\n",
       "      <td>1995</td>\n",
       "    </tr>\n",
       "    <tr>\n",
       "      <th>4</th>\n",
       "      <td>1995-02-10</td>\n",
       "      <td>1995</td>\n",
       "    </tr>\n",
       "  </tbody>\n",
       "</table>\n",
       "</div>"
      ],
      "text/plain": [
       "  release_date  release_year\n",
       "0   1995-10-30          1995\n",
       "1   1995-12-15          1995\n",
       "2   1995-12-22          1995\n",
       "3   1995-12-22          1995\n",
       "4   1995-02-10          1995"
      ]
     },
     "execution_count": 11,
     "metadata": {},
     "output_type": "execute_result"
    }
   ],
   "source": [
    "movie_test_df[\"release_date\"] = pd.to_datetime(movie_test_df[\"release_date\"], errors= 'coerce', format='%Y-%m-%d')\n",
    "movie_test_df[\"release_year\"] = movie_test_df[\"release_date\"].dt.year.astype('Int64')\n",
    "\n",
    "movie_test_df = movie_test_df.dropna(subset= 'release_date')\n",
    "\n",
    "movie_test_df[['release_date','release_year']].head(5)"
   ]
  },
  {
   "cell_type": "markdown",
   "metadata": {},
   "source": [
    "Comprobacion de eliminación de valores nulos"
   ]
  },
  {
   "cell_type": "code",
   "execution_count": 12,
   "metadata": {},
   "outputs": [
    {
     "name": "stdout",
     "output_type": "stream",
     "text": [
      "87\n",
      "0\n",
      "0\n"
     ]
    }
   ],
   "source": [
    "print(movie_test[\"release_date\"].isnull().sum())\n",
    "print(movie_test_df[\"release_date\"].isnull().sum())\n",
    "print(movie_test_df[\"release_year\"].isnull().sum())"
   ]
  },
  {
   "cell_type": "markdown",
   "metadata": {},
   "source": [
    "COLUMNAS a eliminar:"
   ]
  },
  {
   "cell_type": "markdown",
   "metadata": {},
   "source": [
    "Se analiza valores nulos en cada columna"
   ]
  },
  {
   "cell_type": "code",
   "execution_count": 13,
   "metadata": {},
   "outputs": [
    {
     "name": "stdout",
     "output_type": "stream",
     "text": [
      "adult                                      0\n",
      "budget                                     0\n",
      "homepage                               37610\n",
      "id                                         0\n",
      "imdb_id                                   14\n",
      "original_language                         11\n",
      "original_title                             0\n",
      "overview                                 941\n",
      "popularity                                 0\n",
      "poster_path                              339\n",
      "release_date                               0\n",
      "revenue                                    0\n",
      "runtime                                  246\n",
      "status                                    80\n",
      "tagline                                24978\n",
      "title                                      0\n",
      "video                                      0\n",
      "vote_average                               0\n",
      "vote_count                                 0\n",
      "id_belongs_to_collection               40889\n",
      "name_belongs_to_collection             40889\n",
      "poster_path_belongs_to_collection      41432\n",
      "backdrop_path_belongs_to_collection    42117\n",
      "id_genres                                  0\n",
      "name_genres                                0\n",
      "name_production_companies                  1\n",
      "id_production_companies                    1\n",
      "iso_3166_1_production_countries            3\n",
      "name_production_countries                  3\n",
      "iso_639_1_spoken_languages                 0\n",
      "name_spoken_languages                      0\n",
      "return                                     0\n",
      "release_year                               0\n",
      "dtype: int64\n"
     ]
    }
   ],
   "source": [
    "nulos = movie_test_df.isnull().sum()\n",
    "print(nulos )"
   ]
  },
  {
   "cell_type": "markdown",
   "metadata": {},
   "source": [
    "- Columnas a elimniar_ video, imdb_id, adult, original_title, poster_path y homepage.\n",
    "- Columna status, se va a eliminar despues de filtrar las peliculas released\n",
    "- Columnas que no se van a usar en analisis o funciones: belongs_to_collection, "
   ]
  },
  {
   "cell_type": "code",
   "execution_count": 14,
   "metadata": {},
   "outputs": [
    {
     "data": {
      "text/html": [
       "<div>\n",
       "<style scoped>\n",
       "    .dataframe tbody tr th:only-of-type {\n",
       "        vertical-align: middle;\n",
       "    }\n",
       "\n",
       "    .dataframe tbody tr th {\n",
       "        vertical-align: top;\n",
       "    }\n",
       "\n",
       "    .dataframe thead th {\n",
       "        text-align: right;\n",
       "    }\n",
       "</style>\n",
       "<table border=\"1\" class=\"dataframe\">\n",
       "  <thead>\n",
       "    <tr style=\"text-align: right;\">\n",
       "      <th></th>\n",
       "      <th>adult</th>\n",
       "      <th>budget</th>\n",
       "      <th>homepage</th>\n",
       "      <th>id</th>\n",
       "      <th>imdb_id</th>\n",
       "      <th>original_language</th>\n",
       "      <th>original_title</th>\n",
       "      <th>overview</th>\n",
       "      <th>popularity</th>\n",
       "      <th>poster_path</th>\n",
       "      <th>...</th>\n",
       "      <th>id_genres</th>\n",
       "      <th>name_genres</th>\n",
       "      <th>name_production_companies</th>\n",
       "      <th>id_production_companies</th>\n",
       "      <th>iso_3166_1_production_countries</th>\n",
       "      <th>name_production_countries</th>\n",
       "      <th>iso_639_1_spoken_languages</th>\n",
       "      <th>name_spoken_languages</th>\n",
       "      <th>return</th>\n",
       "      <th>release_year</th>\n",
       "    </tr>\n",
       "  </thead>\n",
       "  <tbody>\n",
       "  </tbody>\n",
       "</table>\n",
       "<p>0 rows × 33 columns</p>\n",
       "</div>"
      ],
      "text/plain": [
       "Empty DataFrame\n",
       "Columns: [adult, budget, homepage, id, imdb_id, original_language, original_title, overview, popularity, poster_path, release_date, revenue, runtime, status, tagline, title, video, vote_average, vote_count, id_belongs_to_collection, name_belongs_to_collection, poster_path_belongs_to_collection, backdrop_path_belongs_to_collection, id_genres, name_genres, name_production_companies, id_production_companies, iso_3166_1_production_countries, name_production_countries, iso_639_1_spoken_languages, name_spoken_languages, return, release_year]\n",
       "Index: []\n",
       "\n",
       "[0 rows x 33 columns]"
      ]
     },
     "execution_count": 14,
     "metadata": {},
     "output_type": "execute_result"
    }
   ],
   "source": [
    "movie_test_df[movie_test_df['status']=='released']"
   ]
  },
  {
   "cell_type": "code",
   "execution_count": 15,
   "metadata": {},
   "outputs": [],
   "source": [
    "columnas = [ 'video', 'imdb_id', 'adult', 'original_title', 'poster_path' , 'homepage','status' , 'tagline', 'id_belongs_to_collection', \n",
    "            'name_belongs_to_collection',\n",
    "       'poster_path_belongs_to_collection',\n",
    "       'backdrop_path_belongs_to_collection', 'name_production_companies', 'id_production_companies', 'name_production_countries',\n",
    "       'iso_3166_1_production_countries','iso_639_1_spoken_languages', 'name_spoken_languages']\n",
    "\n",
    "\n",
    "movie_test_df = movie_test_df.drop(columnas, axis=1)"
   ]
  },
  {
   "cell_type": "code",
   "execution_count": 16,
   "metadata": {},
   "outputs": [
    {
     "data": {
      "text/html": [
       "<div>\n",
       "<style scoped>\n",
       "    .dataframe tbody tr th:only-of-type {\n",
       "        vertical-align: middle;\n",
       "    }\n",
       "\n",
       "    .dataframe tbody tr th {\n",
       "        vertical-align: top;\n",
       "    }\n",
       "\n",
       "    .dataframe thead th {\n",
       "        text-align: right;\n",
       "    }\n",
       "</style>\n",
       "<table border=\"1\" class=\"dataframe\">\n",
       "  <thead>\n",
       "    <tr style=\"text-align: right;\">\n",
       "      <th></th>\n",
       "      <th>budget</th>\n",
       "      <th>id</th>\n",
       "      <th>original_language</th>\n",
       "      <th>overview</th>\n",
       "      <th>popularity</th>\n",
       "      <th>release_date</th>\n",
       "      <th>revenue</th>\n",
       "      <th>runtime</th>\n",
       "      <th>title</th>\n",
       "      <th>vote_average</th>\n",
       "      <th>vote_count</th>\n",
       "      <th>id_genres</th>\n",
       "      <th>name_genres</th>\n",
       "      <th>return</th>\n",
       "      <th>release_year</th>\n",
       "    </tr>\n",
       "  </thead>\n",
       "  <tbody>\n",
       "    <tr>\n",
       "      <th>0</th>\n",
       "      <td>30000000</td>\n",
       "      <td>862</td>\n",
       "      <td>en</td>\n",
       "      <td>Led by Woody, Andy's toys live happily in his ...</td>\n",
       "      <td>21.946943</td>\n",
       "      <td>1995-10-30</td>\n",
       "      <td>373554033</td>\n",
       "      <td>81.0</td>\n",
       "      <td>Toy Story</td>\n",
       "      <td>7.7</td>\n",
       "      <td>5415.0</td>\n",
       "      <td>16</td>\n",
       "      <td>Animation</td>\n",
       "      <td>12.45</td>\n",
       "      <td>1995</td>\n",
       "    </tr>\n",
       "  </tbody>\n",
       "</table>\n",
       "</div>"
      ],
      "text/plain": [
       "     budget   id original_language  \\\n",
       "0  30000000  862                en   \n",
       "\n",
       "                                            overview popularity release_date  \\\n",
       "0  Led by Woody, Andy's toys live happily in his ...  21.946943   1995-10-30   \n",
       "\n",
       "     revenue  runtime      title  vote_average  vote_count  id_genres  \\\n",
       "0  373554033     81.0  Toy Story           7.7      5415.0         16   \n",
       "\n",
       "  name_genres  return  release_year  \n",
       "0   Animation   12.45          1995  "
      ]
     },
     "execution_count": 16,
     "metadata": {},
     "output_type": "execute_result"
    }
   ],
   "source": [
    "movie_test_df.head(1)"
   ]
  },
  {
   "cell_type": "markdown",
   "metadata": {},
   "source": [
    "**VALORES NULOS**"
   ]
  },
  {
   "cell_type": "code",
   "execution_count": 17,
   "metadata": {},
   "outputs": [
    {
     "name": "stdout",
     "output_type": "stream",
     "text": [
      "budget                 0\n",
      "id                     0\n",
      "original_language     11\n",
      "overview             941\n",
      "popularity             0\n",
      "release_date           0\n",
      "revenue                0\n",
      "runtime              246\n",
      "title                  0\n",
      "vote_average           0\n",
      "vote_count             0\n",
      "id_genres              0\n",
      "name_genres            0\n",
      "return                 0\n",
      "release_year           0\n",
      "dtype: int64\n"
     ]
    }
   ],
   "source": [
    "nulos = movie_test_df.isnull().sum()\n",
    "print(nulos )"
   ]
  },
  {
   "cell_type": "code",
   "execution_count": 18,
   "metadata": {},
   "outputs": [],
   "source": [
    "# Eliminacion de filas por valores nulos \n",
    "movie_test_df = movie_test_df.dropna(subset=['overview','original_language' ,'runtime'])"
   ]
  },
  {
   "cell_type": "markdown",
   "metadata": {},
   "source": [
    "Comparación dataset original vs ETL(dataset)"
   ]
  },
  {
   "cell_type": "code",
   "execution_count": 19,
   "metadata": {},
   "outputs": [
    {
     "name": "stdout",
     "output_type": "stream",
     "text": [
      "(45466, 24)\n",
      "(44425, 15)\n"
     ]
    }
   ],
   "source": [
    "print(movie_test.shape)\n",
    "print(movie_test_df.shape)"
   ]
  },
  {
   "cell_type": "markdown",
   "metadata": {},
   "source": [
    "### CAMBIAR NOMBRE y TIPO DATOS (string => int, float, etc)"
   ]
  },
  {
   "cell_type": "code",
   "execution_count": 20,
   "metadata": {},
   "outputs": [
    {
     "name": "stdout",
     "output_type": "stream",
     "text": [
      "Tipo de dato de budget:            <class 'numpy.int64'>\n",
      "Tipo de dato de id:            <class 'str'>\n",
      "Tipo de dato de original_language:            <class 'str'>\n",
      "Tipo de dato de overview:            <class 'str'>\n",
      "Tipo de dato de popularity:            <class 'float'>\n",
      "Tipo de dato de release_date:            <class 'pandas._libs.tslibs.timestamps.Timestamp'>\n",
      "Tipo de dato de revenue:            <class 'numpy.int64'>\n",
      "Tipo de dato de runtime:            <class 'numpy.float64'>\n",
      "Tipo de dato de title:            <class 'str'>\n",
      "Tipo de dato de vote_average:            <class 'numpy.float64'>\n",
      "Tipo de dato de vote_count:            <class 'numpy.float64'>\n",
      "Tipo de dato de id_genres:            <class 'numpy.int64'>\n",
      "Tipo de dato de name_genres:            <class 'str'>\n",
      "Tipo de dato de return:            <class 'numpy.float64'>\n",
      "Tipo de dato de release_year:            <class 'numpy.int64'>\n"
     ]
    }
   ],
   "source": [
    "columnas = movie_test_df.columns.tolist()\n",
    "for i in columnas:\n",
    "    print(f'Tipo de dato de {i}:            { type(movie_test_df[i][0]) }')"
   ]
  },
  {
   "cell_type": "markdown",
   "metadata": {},
   "source": [
    "Cambiar tipo de datos\n",
    "- id           (str => int)\n",
    "- runtime      (float => int)\n",
    "- vote_count   (float => int)\n",
    "- popularity  a 2 decimales"
   ]
  },
  {
   "cell_type": "code",
   "execution_count": 21,
   "metadata": {},
   "outputs": [],
   "source": [
    "movie_test_df[\"id\"] = movie_test_df[\"id\"].astype('Int64')\n",
    "movie_test_df[\"runtime\"] = movie_test_df[\"runtime\"].astype('Int64')\n",
    "movie_test_df[\"vote_count\"] = movie_test_df[\"vote_count\"].astype('Int64')\n",
    "\n",
    "movie_test_df[\"popularity\"] = movie_test_df[\"popularity\"].astype(float)\n",
    "movie_test_df[\"popularity\"] = movie_test_df[\"popularity\"].round(2)"
   ]
  },
  {
   "cell_type": "code",
   "execution_count": 22,
   "metadata": {},
   "outputs": [
    {
     "data": {
      "text/html": [
       "<div>\n",
       "<style scoped>\n",
       "    .dataframe tbody tr th:only-of-type {\n",
       "        vertical-align: middle;\n",
       "    }\n",
       "\n",
       "    .dataframe tbody tr th {\n",
       "        vertical-align: top;\n",
       "    }\n",
       "\n",
       "    .dataframe thead th {\n",
       "        text-align: right;\n",
       "    }\n",
       "</style>\n",
       "<table border=\"1\" class=\"dataframe\">\n",
       "  <thead>\n",
       "    <tr style=\"text-align: right;\">\n",
       "      <th></th>\n",
       "      <th>budget</th>\n",
       "      <th>id</th>\n",
       "      <th>original_language</th>\n",
       "      <th>overview</th>\n",
       "      <th>popularity</th>\n",
       "      <th>release_date</th>\n",
       "      <th>revenue</th>\n",
       "      <th>runtime</th>\n",
       "      <th>title</th>\n",
       "      <th>vote_average</th>\n",
       "      <th>vote_count</th>\n",
       "      <th>id_genres</th>\n",
       "      <th>name_genres</th>\n",
       "      <th>return</th>\n",
       "      <th>release_year</th>\n",
       "    </tr>\n",
       "  </thead>\n",
       "  <tbody>\n",
       "    <tr>\n",
       "      <th>0</th>\n",
       "      <td>30000000</td>\n",
       "      <td>862</td>\n",
       "      <td>en</td>\n",
       "      <td>Led by Woody, Andy's toys live happily in his ...</td>\n",
       "      <td>21.95</td>\n",
       "      <td>1995-10-30</td>\n",
       "      <td>373554033</td>\n",
       "      <td>81</td>\n",
       "      <td>Toy Story</td>\n",
       "      <td>7.7</td>\n",
       "      <td>5415</td>\n",
       "      <td>16</td>\n",
       "      <td>Animation</td>\n",
       "      <td>12.45</td>\n",
       "      <td>1995</td>\n",
       "    </tr>\n",
       "  </tbody>\n",
       "</table>\n",
       "</div>"
      ],
      "text/plain": [
       "     budget   id original_language  \\\n",
       "0  30000000  862                en   \n",
       "\n",
       "                                            overview  popularity release_date  \\\n",
       "0  Led by Woody, Andy's toys live happily in his ...       21.95   1995-10-30   \n",
       "\n",
       "     revenue  runtime      title  vote_average  vote_count  id_genres  \\\n",
       "0  373554033       81  Toy Story           7.7        5415         16   \n",
       "\n",
       "  name_genres  return  release_year  \n",
       "0   Animation   12.45          1995  "
      ]
     },
     "execution_count": 22,
     "metadata": {},
     "output_type": "execute_result"
    }
   ],
   "source": [
    "movie_test_df.head(1)"
   ]
  },
  {
   "cell_type": "markdown",
   "metadata": {},
   "source": [
    "Cambiar nombres a columnas:"
   ]
  },
  {
   "cell_type": "code",
   "execution_count": 23,
   "metadata": {},
   "outputs": [],
   "source": [
    "movie_test_df  =movie_test_df.rename( {'id':'id_movie'} , axis=1)"
   ]
  },
  {
   "cell_type": "markdown",
   "metadata": {},
   "source": [
    "### VERIFICACIÓN IDENTIFICADORES UNICOS"
   ]
  },
  {
   "cell_type": "markdown",
   "metadata": {},
   "source": [
    "Cantidad de valores duplicados, luego de aparcer por segunda vez <p>\n",
    "Identificador único: 'id'"
   ]
  },
  {
   "cell_type": "code",
   "execution_count": 24,
   "metadata": {},
   "outputs": [
    {
     "name": "stdout",
     "output_type": "stream",
     "text": [
      "Hay 30 id_movies duplicados\n"
     ]
    }
   ],
   "source": [
    "duplicados= movie_test_df[movie_test_df[\"id_movie\"].duplicated()]\n",
    "print(f'Hay {len(duplicados)} id_movies duplicados')\n"
   ]
  },
  {
   "cell_type": "markdown",
   "metadata": {},
   "source": [
    "Eliminación de valores duplicados de la columna 'id_movie'"
   ]
  },
  {
   "cell_type": "code",
   "execution_count": 25,
   "metadata": {},
   "outputs": [],
   "source": [
    "# keep='first' se mantiene el id original, y se elimina el duplicado\n",
    "movie_test_df.drop_duplicates(subset='id_movie', keep='first', inplace=True)"
   ]
  },
  {
   "cell_type": "markdown",
   "metadata": {},
   "source": [
    "Se verifica que ya no existen valores duplicados"
   ]
  },
  {
   "cell_type": "code",
   "execution_count": 26,
   "metadata": {},
   "outputs": [
    {
     "name": "stdout",
     "output_type": "stream",
     "text": [
      "0\n"
     ]
    }
   ],
   "source": [
    "duplicados2= movie_test_df[movie_test_df[\"id_movie\"].duplicated()]\n",
    "print(len(duplicados2))"
   ]
  },
  {
   "cell_type": "markdown",
   "metadata": {},
   "source": [
    "Se genera tabla externa generos"
   ]
  },
  {
   "cell_type": "code",
   "execution_count": null,
   "metadata": {},
   "outputs": [],
   "source": [
    "genres = movie_test_df[['id_genres', 'name_genres']].drop_duplicates().reset_index(drop=True)\n",
    "movie_test_df = movie_test_df.drop(columns=['name_genres'])\n",
    "genres"
   ]
  },
  {
   "cell_type": "code",
   "execution_count": 28,
   "metadata": {},
   "outputs": [],
   "source": [
    "# Cambio del orden 'id_movie'\n",
    "movie_test_df= reordena_colum(movie_test_df, 'id_movie', 0)"
   ]
  },
  {
   "cell_type": "code",
   "execution_count": 31,
   "metadata": {},
   "outputs": [
    {
     "data": {
      "text/html": [
       "<div>\n",
       "<style scoped>\n",
       "    .dataframe tbody tr th:only-of-type {\n",
       "        vertical-align: middle;\n",
       "    }\n",
       "\n",
       "    .dataframe tbody tr th {\n",
       "        vertical-align: top;\n",
       "    }\n",
       "\n",
       "    .dataframe thead th {\n",
       "        text-align: right;\n",
       "    }\n",
       "</style>\n",
       "<table border=\"1\" class=\"dataframe\">\n",
       "  <thead>\n",
       "    <tr style=\"text-align: right;\">\n",
       "      <th></th>\n",
       "      <th>id_movie</th>\n",
       "      <th>budget</th>\n",
       "      <th>original_language</th>\n",
       "      <th>overview</th>\n",
       "      <th>popularity</th>\n",
       "      <th>release_date</th>\n",
       "      <th>revenue</th>\n",
       "      <th>runtime</th>\n",
       "      <th>title</th>\n",
       "      <th>vote_average</th>\n",
       "      <th>vote_count</th>\n",
       "      <th>id_genres</th>\n",
       "      <th>return</th>\n",
       "      <th>release_year</th>\n",
       "    </tr>\n",
       "  </thead>\n",
       "  <tbody>\n",
       "    <tr>\n",
       "      <th>0</th>\n",
       "      <td>862</td>\n",
       "      <td>30000000</td>\n",
       "      <td>en</td>\n",
       "      <td>Led by Woody, Andy's toys live happily in his ...</td>\n",
       "      <td>21.95</td>\n",
       "      <td>1995-10-30</td>\n",
       "      <td>373554033</td>\n",
       "      <td>81</td>\n",
       "      <td>Toy Story</td>\n",
       "      <td>7.7</td>\n",
       "      <td>5415</td>\n",
       "      <td>16</td>\n",
       "      <td>12.45</td>\n",
       "      <td>1995</td>\n",
       "    </tr>\n",
       "  </tbody>\n",
       "</table>\n",
       "</div>"
      ],
      "text/plain": [
       "   id_movie    budget original_language  \\\n",
       "0       862  30000000                en   \n",
       "\n",
       "                                            overview  popularity release_date  \\\n",
       "0  Led by Woody, Andy's toys live happily in his ...       21.95   1995-10-30   \n",
       "\n",
       "     revenue  runtime      title  vote_average  vote_count  id_genres  return  \\\n",
       "0  373554033       81  Toy Story           7.7        5415         16   12.45   \n",
       "\n",
       "   release_year  \n",
       "0          1995  "
      ]
     },
     "execution_count": 31,
     "metadata": {},
     "output_type": "execute_result"
    }
   ],
   "source": [
    "movie_test_df.head(1)"
   ]
  },
  {
   "cell_type": "markdown",
   "metadata": {},
   "source": [
    "### EXPORTACIÓN DATASET FINAL "
   ]
  },
  {
   "cell_type": "code",
   "execution_count": 32,
   "metadata": {},
   "outputs": [
    {
     "name": "stdout",
     "output_type": "stream",
     "text": [
      "(44395, 14)\n",
      "<class 'pandas.core.frame.DataFrame'>\n",
      "Index: 44395 entries, 0 to 45465\n",
      "Data columns (total 14 columns):\n",
      " #   Column             Non-Null Count  Dtype         \n",
      "---  ------             --------------  -----         \n",
      " 0   id_movie           44395 non-null  Int64         \n",
      " 1   budget             44395 non-null  Int64         \n",
      " 2   original_language  44395 non-null  object        \n",
      " 3   overview           44395 non-null  object        \n",
      " 4   popularity         44395 non-null  float64       \n",
      " 5   release_date       44395 non-null  datetime64[ns]\n",
      " 6   revenue            44395 non-null  Int64         \n",
      " 7   runtime            44395 non-null  Int64         \n",
      " 8   title              44395 non-null  object        \n",
      " 9   vote_average       44395 non-null  float64       \n",
      " 10  vote_count         44395 non-null  Int64         \n",
      " 11  id_genres          44395 non-null  int64         \n",
      " 12  return             44395 non-null  float64       \n",
      " 13  release_year       44395 non-null  Int64         \n",
      "dtypes: Int64(6), datetime64[ns](1), float64(3), int64(1), object(3)\n",
      "memory usage: 5.3+ MB\n"
     ]
    }
   ],
   "source": [
    "print(movie_test_df.shape)\n",
    "movie_test_df.info()"
   ]
  },
  {
   "cell_type": "code",
   "execution_count": 33,
   "metadata": {},
   "outputs": [],
   "source": [
    "movie_test_df.to_parquet('../datasets/movie_dataset_final.parquet', engine='pyarrow' ,compression='snappy', index=False)\n",
    "genres.to_parquet('../datasets/generos_df.parquet', engine='pyarrow' ,compression='snappy', index=False)"
   ]
  }
 ],
 "metadata": {
  "kernelspec": {
   "display_name": "Python 3",
   "language": "python",
   "name": "python3"
  },
  "language_info": {
   "codemirror_mode": {
    "name": "ipython",
    "version": 3
   },
   "file_extension": ".py",
   "mimetype": "text/x-python",
   "name": "python",
   "nbconvert_exporter": "python",
   "pygments_lexer": "ipython3",
   "version": "3.11.2"
  }
 },
 "nbformat": 4,
 "nbformat_minor": 2
}
